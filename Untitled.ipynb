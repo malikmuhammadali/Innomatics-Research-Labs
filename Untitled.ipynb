{
 "cells": [
  {
   "cell_type": "code",
   "execution_count": 1,
   "id": "f751b3d1-a93f-43e6-a93e-5a9285179795",
   "metadata": {},
   "outputs": [],
   "source": [
    "import pandas as pd\n",
    "import numpy as np\n",
    "import matplotlib.pyplot as plt\n"
   ]
  },
  {
   "cell_type": "code",
   "execution_count": 2,
   "id": "4b66569a-c79a-4865-8c68-af10dee3da1c",
   "metadata": {},
   "outputs": [],
   "source": [
    "df=pd.read_csv('links.csv')"
   ]
  },
  {
   "cell_type": "code",
   "execution_count": 3,
   "id": "61898007-9e14-4ac2-ba93-6d0ae6cea3d1",
   "metadata": {},
   "outputs": [
    {
     "data": {
      "text/html": [
       "<div>\n",
       "<style scoped>\n",
       "    .dataframe tbody tr th:only-of-type {\n",
       "        vertical-align: middle;\n",
       "    }\n",
       "\n",
       "    .dataframe tbody tr th {\n",
       "        vertical-align: top;\n",
       "    }\n",
       "\n",
       "    .dataframe thead th {\n",
       "        text-align: right;\n",
       "    }\n",
       "</style>\n",
       "<table border=\"1\" class=\"dataframe\">\n",
       "  <thead>\n",
       "    <tr style=\"text-align: right;\">\n",
       "      <th></th>\n",
       "      <th>movieId</th>\n",
       "      <th>imdbId</th>\n",
       "      <th>tmdbId</th>\n",
       "    </tr>\n",
       "  </thead>\n",
       "  <tbody>\n",
       "    <tr>\n",
       "      <th>0</th>\n",
       "      <td>1</td>\n",
       "      <td>114709</td>\n",
       "      <td>862.0</td>\n",
       "    </tr>\n",
       "    <tr>\n",
       "      <th>1</th>\n",
       "      <td>2</td>\n",
       "      <td>113497</td>\n",
       "      <td>8844.0</td>\n",
       "    </tr>\n",
       "    <tr>\n",
       "      <th>2</th>\n",
       "      <td>3</td>\n",
       "      <td>113228</td>\n",
       "      <td>15602.0</td>\n",
       "    </tr>\n",
       "    <tr>\n",
       "      <th>3</th>\n",
       "      <td>4</td>\n",
       "      <td>114885</td>\n",
       "      <td>31357.0</td>\n",
       "    </tr>\n",
       "    <tr>\n",
       "      <th>4</th>\n",
       "      <td>5</td>\n",
       "      <td>113041</td>\n",
       "      <td>11862.0</td>\n",
       "    </tr>\n",
       "    <tr>\n",
       "      <th>...</th>\n",
       "      <td>...</td>\n",
       "      <td>...</td>\n",
       "      <td>...</td>\n",
       "    </tr>\n",
       "    <tr>\n",
       "      <th>9737</th>\n",
       "      <td>193581</td>\n",
       "      <td>5476944</td>\n",
       "      <td>432131.0</td>\n",
       "    </tr>\n",
       "    <tr>\n",
       "      <th>9738</th>\n",
       "      <td>193583</td>\n",
       "      <td>5914996</td>\n",
       "      <td>445030.0</td>\n",
       "    </tr>\n",
       "    <tr>\n",
       "      <th>9739</th>\n",
       "      <td>193585</td>\n",
       "      <td>6397426</td>\n",
       "      <td>479308.0</td>\n",
       "    </tr>\n",
       "    <tr>\n",
       "      <th>9740</th>\n",
       "      <td>193587</td>\n",
       "      <td>8391976</td>\n",
       "      <td>483455.0</td>\n",
       "    </tr>\n",
       "    <tr>\n",
       "      <th>9741</th>\n",
       "      <td>193609</td>\n",
       "      <td>101726</td>\n",
       "      <td>37891.0</td>\n",
       "    </tr>\n",
       "  </tbody>\n",
       "</table>\n",
       "<p>9742 rows × 3 columns</p>\n",
       "</div>"
      ],
      "text/plain": [
       "      movieId   imdbId    tmdbId\n",
       "0           1   114709     862.0\n",
       "1           2   113497    8844.0\n",
       "2           3   113228   15602.0\n",
       "3           4   114885   31357.0\n",
       "4           5   113041   11862.0\n",
       "...       ...      ...       ...\n",
       "9737   193581  5476944  432131.0\n",
       "9738   193583  5914996  445030.0\n",
       "9739   193585  6397426  479308.0\n",
       "9740   193587  8391976  483455.0\n",
       "9741   193609   101726   37891.0\n",
       "\n",
       "[9742 rows x 3 columns]"
      ]
     },
     "execution_count": 3,
     "metadata": {},
     "output_type": "execute_result"
    }
   ],
   "source": [
    "df"
   ]
  },
  {
   "cell_type": "code",
   "execution_count": 4,
   "id": "b9460ccf-96e2-4c0c-b3a9-cf47301a7ef7",
   "metadata": {},
   "outputs": [],
   "source": [
    "df=pd.read_csv('movies.csv')"
   ]
  },
  {
   "cell_type": "code",
   "execution_count": 5,
   "id": "33882ec8-70f1-445b-8c32-639d92044afe",
   "metadata": {},
   "outputs": [
    {
     "data": {
      "text/html": [
       "<div>\n",
       "<style scoped>\n",
       "    .dataframe tbody tr th:only-of-type {\n",
       "        vertical-align: middle;\n",
       "    }\n",
       "\n",
       "    .dataframe tbody tr th {\n",
       "        vertical-align: top;\n",
       "    }\n",
       "\n",
       "    .dataframe thead th {\n",
       "        text-align: right;\n",
       "    }\n",
       "</style>\n",
       "<table border=\"1\" class=\"dataframe\">\n",
       "  <thead>\n",
       "    <tr style=\"text-align: right;\">\n",
       "      <th></th>\n",
       "      <th>movieId</th>\n",
       "      <th>title</th>\n",
       "      <th>genres</th>\n",
       "    </tr>\n",
       "  </thead>\n",
       "  <tbody>\n",
       "    <tr>\n",
       "      <th>0</th>\n",
       "      <td>1</td>\n",
       "      <td>Toy Story (1995)</td>\n",
       "      <td>Adventure|Animation|Children|Comedy|Fantasy</td>\n",
       "    </tr>\n",
       "    <tr>\n",
       "      <th>1</th>\n",
       "      <td>2</td>\n",
       "      <td>Jumanji (1995)</td>\n",
       "      <td>Adventure|Children|Fantasy</td>\n",
       "    </tr>\n",
       "    <tr>\n",
       "      <th>2</th>\n",
       "      <td>3</td>\n",
       "      <td>Grumpier Old Men (1995)</td>\n",
       "      <td>Comedy|Romance</td>\n",
       "    </tr>\n",
       "    <tr>\n",
       "      <th>3</th>\n",
       "      <td>4</td>\n",
       "      <td>Waiting to Exhale (1995)</td>\n",
       "      <td>Comedy|Drama|Romance</td>\n",
       "    </tr>\n",
       "    <tr>\n",
       "      <th>4</th>\n",
       "      <td>5</td>\n",
       "      <td>Father of the Bride Part II (1995)</td>\n",
       "      <td>Comedy</td>\n",
       "    </tr>\n",
       "    <tr>\n",
       "      <th>...</th>\n",
       "      <td>...</td>\n",
       "      <td>...</td>\n",
       "      <td>...</td>\n",
       "    </tr>\n",
       "    <tr>\n",
       "      <th>9737</th>\n",
       "      <td>193581</td>\n",
       "      <td>Black Butler: Book of the Atlantic (2017)</td>\n",
       "      <td>Action|Animation|Comedy|Fantasy</td>\n",
       "    </tr>\n",
       "    <tr>\n",
       "      <th>9738</th>\n",
       "      <td>193583</td>\n",
       "      <td>No Game No Life: Zero (2017)</td>\n",
       "      <td>Animation|Comedy|Fantasy</td>\n",
       "    </tr>\n",
       "    <tr>\n",
       "      <th>9739</th>\n",
       "      <td>193585</td>\n",
       "      <td>Flint (2017)</td>\n",
       "      <td>Drama</td>\n",
       "    </tr>\n",
       "    <tr>\n",
       "      <th>9740</th>\n",
       "      <td>193587</td>\n",
       "      <td>Bungo Stray Dogs: Dead Apple (2018)</td>\n",
       "      <td>Action|Animation</td>\n",
       "    </tr>\n",
       "    <tr>\n",
       "      <th>9741</th>\n",
       "      <td>193609</td>\n",
       "      <td>Andrew Dice Clay: Dice Rules (1991)</td>\n",
       "      <td>Comedy</td>\n",
       "    </tr>\n",
       "  </tbody>\n",
       "</table>\n",
       "<p>9742 rows × 3 columns</p>\n",
       "</div>"
      ],
      "text/plain": [
       "      movieId                                      title  \\\n",
       "0           1                           Toy Story (1995)   \n",
       "1           2                             Jumanji (1995)   \n",
       "2           3                    Grumpier Old Men (1995)   \n",
       "3           4                   Waiting to Exhale (1995)   \n",
       "4           5         Father of the Bride Part II (1995)   \n",
       "...       ...                                        ...   \n",
       "9737   193581  Black Butler: Book of the Atlantic (2017)   \n",
       "9738   193583               No Game No Life: Zero (2017)   \n",
       "9739   193585                               Flint (2017)   \n",
       "9740   193587        Bungo Stray Dogs: Dead Apple (2018)   \n",
       "9741   193609        Andrew Dice Clay: Dice Rules (1991)   \n",
       "\n",
       "                                           genres  \n",
       "0     Adventure|Animation|Children|Comedy|Fantasy  \n",
       "1                      Adventure|Children|Fantasy  \n",
       "2                                  Comedy|Romance  \n",
       "3                            Comedy|Drama|Romance  \n",
       "4                                          Comedy  \n",
       "...                                           ...  \n",
       "9737              Action|Animation|Comedy|Fantasy  \n",
       "9738                     Animation|Comedy|Fantasy  \n",
       "9739                                        Drama  \n",
       "9740                             Action|Animation  \n",
       "9741                                       Comedy  \n",
       "\n",
       "[9742 rows x 3 columns]"
      ]
     },
     "execution_count": 5,
     "metadata": {},
     "output_type": "execute_result"
    }
   ],
   "source": [
    "df"
   ]
  },
  {
   "cell_type": "code",
   "execution_count": 6,
   "id": "7746e2df-d55e-4c6b-8ec0-da796e2e6648",
   "metadata": {},
   "outputs": [
    {
     "data": {
      "text/plain": [
       "(9742, 3)"
      ]
     },
     "execution_count": 6,
     "metadata": {},
     "output_type": "execute_result"
    }
   ],
   "source": [
    "df.shape"
   ]
  },
  {
   "cell_type": "code",
   "execution_count": 7,
   "id": "690b971e-8a94-4bf1-809d-523cb584fef0",
   "metadata": {},
   "outputs": [],
   "source": [
    "df = pd.read_csv('ratings.csv', header=None)"
   ]
  },
  {
   "cell_type": "code",
   "execution_count": 8,
   "id": "0021eb9b-45a2-492a-8113-09ccf518079e",
   "metadata": {},
   "outputs": [
    {
     "data": {
      "text/html": [
       "<div>\n",
       "<style scoped>\n",
       "    .dataframe tbody tr th:only-of-type {\n",
       "        vertical-align: middle;\n",
       "    }\n",
       "\n",
       "    .dataframe tbody tr th {\n",
       "        vertical-align: top;\n",
       "    }\n",
       "\n",
       "    .dataframe thead th {\n",
       "        text-align: right;\n",
       "    }\n",
       "</style>\n",
       "<table border=\"1\" class=\"dataframe\">\n",
       "  <thead>\n",
       "    <tr style=\"text-align: right;\">\n",
       "      <th></th>\n",
       "      <th>0</th>\n",
       "      <th>1</th>\n",
       "      <th>2</th>\n",
       "      <th>3</th>\n",
       "    </tr>\n",
       "  </thead>\n",
       "  <tbody>\n",
       "    <tr>\n",
       "      <th>0</th>\n",
       "      <td>userId</td>\n",
       "      <td>movieId</td>\n",
       "      <td>rating</td>\n",
       "      <td>timestamp</td>\n",
       "    </tr>\n",
       "    <tr>\n",
       "      <th>1</th>\n",
       "      <td>1</td>\n",
       "      <td>1</td>\n",
       "      <td>4.0</td>\n",
       "      <td>964982703</td>\n",
       "    </tr>\n",
       "    <tr>\n",
       "      <th>2</th>\n",
       "      <td>1</td>\n",
       "      <td>3</td>\n",
       "      <td>4.0</td>\n",
       "      <td>964981247</td>\n",
       "    </tr>\n",
       "    <tr>\n",
       "      <th>3</th>\n",
       "      <td>1</td>\n",
       "      <td>6</td>\n",
       "      <td>4.0</td>\n",
       "      <td>964982224</td>\n",
       "    </tr>\n",
       "    <tr>\n",
       "      <th>4</th>\n",
       "      <td>1</td>\n",
       "      <td>47</td>\n",
       "      <td>5.0</td>\n",
       "      <td>964983815</td>\n",
       "    </tr>\n",
       "    <tr>\n",
       "      <th>...</th>\n",
       "      <td>...</td>\n",
       "      <td>...</td>\n",
       "      <td>...</td>\n",
       "      <td>...</td>\n",
       "    </tr>\n",
       "    <tr>\n",
       "      <th>100832</th>\n",
       "      <td>610</td>\n",
       "      <td>166534</td>\n",
       "      <td>4.0</td>\n",
       "      <td>1493848402</td>\n",
       "    </tr>\n",
       "    <tr>\n",
       "      <th>100833</th>\n",
       "      <td>610</td>\n",
       "      <td>168248</td>\n",
       "      <td>5.0</td>\n",
       "      <td>1493850091</td>\n",
       "    </tr>\n",
       "    <tr>\n",
       "      <th>100834</th>\n",
       "      <td>610</td>\n",
       "      <td>168250</td>\n",
       "      <td>5.0</td>\n",
       "      <td>1494273047</td>\n",
       "    </tr>\n",
       "    <tr>\n",
       "      <th>100835</th>\n",
       "      <td>610</td>\n",
       "      <td>168252</td>\n",
       "      <td>5.0</td>\n",
       "      <td>1493846352</td>\n",
       "    </tr>\n",
       "    <tr>\n",
       "      <th>100836</th>\n",
       "      <td>610</td>\n",
       "      <td>170875</td>\n",
       "      <td>3.0</td>\n",
       "      <td>1493846415</td>\n",
       "    </tr>\n",
       "  </tbody>\n",
       "</table>\n",
       "<p>100837 rows × 4 columns</p>\n",
       "</div>"
      ],
      "text/plain": [
       "             0        1       2           3\n",
       "0       userId  movieId  rating   timestamp\n",
       "1            1        1     4.0   964982703\n",
       "2            1        3     4.0   964981247\n",
       "3            1        6     4.0   964982224\n",
       "4            1       47     5.0   964983815\n",
       "...        ...      ...     ...         ...\n",
       "100832     610   166534     4.0  1493848402\n",
       "100833     610   168248     5.0  1493850091\n",
       "100834     610   168250     5.0  1494273047\n",
       "100835     610   168252     5.0  1493846352\n",
       "100836     610   170875     3.0  1493846415\n",
       "\n",
       "[100837 rows x 4 columns]"
      ]
     },
     "execution_count": 8,
     "metadata": {},
     "output_type": "execute_result"
    }
   ],
   "source": [
    "df"
   ]
  },
  {
   "cell_type": "code",
   "execution_count": 9,
   "id": "0795c94b-6f99-4c6c-be2d-d0b4339ae9b7",
   "metadata": {},
   "outputs": [],
   "source": [
    "df.columns = ['userId', 'movieId', 'rating', 'timestamp']"
   ]
  },
  {
   "cell_type": "code",
   "execution_count": 10,
   "id": "564e0b32-9566-49a0-8eda-46f274749fa9",
   "metadata": {},
   "outputs": [],
   "source": [
    "df.columns = df.columns.str.strip()"
   ]
  },
  {
   "cell_type": "code",
   "execution_count": 11,
   "id": "ef3f7234-1992-4422-bdc5-273fb241410e",
   "metadata": {},
   "outputs": [
    {
     "name": "stdout",
     "output_type": "stream",
     "text": [
      "Number of unique userIds: 611\n"
     ]
    }
   ],
   "source": [
    "unique_user_ids = df['userId'].nunique()\n",
    "\n",
    "print(f'Number of unique userIds: {unique_user_ids}')"
   ]
  },
  {
   "cell_type": "code",
   "execution_count": 12,
   "id": "e7198fd8-b79b-4068-8eae-57ec65776654",
   "metadata": {},
   "outputs": [
    {
     "name": "stdout",
     "output_type": "stream",
     "text": [
      "The movie with the maximum number of user ratings is \"Forrest Gump (1994)\" with 329 ratings.\n"
     ]
    }
   ],
   "source": [
    "import pandas as pd\n",
    "\n",
    "# Load the datasets\n",
    "ratings_df = pd.read_csv('ratings.csv')\n",
    "movies_df = pd.read_csv('movies.csv')  # Adjust the filename if necessary\n",
    "\n",
    "# Strip any extra whitespace from column names\n",
    "ratings_df.columns = ratings_df.columns.str.strip()\n",
    "movies_df.columns = movies_df.columns.str.strip()\n",
    "\n",
    "# Convert 'movieId' in ratings_df to integers\n",
    "ratings_df['movieId'] = ratings_df['movieId'].astype(int)\n",
    "\n",
    "# Group by 'movieId' and count the number of ratings for each movie\n",
    "rating_counts = ratings_df.groupby('movieId').size()\n",
    "\n",
    "# Find the movieId with the maximum number of ratings\n",
    "most_rated_movie_id = rating_counts.idxmax()\n",
    "most_rated_count = rating_counts.max()\n",
    "\n",
    "# Check if most_rated_movie_id is in movies_df\n",
    "if most_rated_movie_id in movies_df['movieId'].values:\n",
    "    # Find the title of the most rated movie\n",
    "    most_rated_movie_title = movies_df[movies_df['movieId'] == most_rated_movie_id]['title'].values[0]\n",
    "    print(f'The movie with the maximum number of user ratings is \"{most_rated_movie_title}\" with {most_rated_count} ratings.')\n",
    "else:\n",
    "    print(f'Movie ID {most_rated_movie_id} not found in movies dataset.')\n"
   ]
  },
  {
   "cell_type": "code",
   "execution_count": 13,
   "id": "8ec89944-26f7-41b9-abd5-c6bcdd1cb92d",
   "metadata": {},
   "outputs": [
    {
     "name": "stdout",
     "output_type": "stream",
     "text": [
      "Tags submitted by users for \"Matrix, The (1999)\" are:\n",
      "martial arts\n",
      "sci-fi\n",
      "alternate universe\n",
      "philosophy\n",
      "post apocalyptic\n"
     ]
    }
   ],
   "source": [
    "# Load the datasets\n",
    "movies_df = pd.read_csv('movies.csv')\n",
    "tags_df = pd.read_csv('tags.csv')  # Adjust the filename if necessary\n",
    "\n",
    "# Strip any extra whitespace from column names\n",
    "movies_df.columns = movies_df.columns.str.strip()\n",
    "tags_df.columns = tags_df.columns.str.strip()\n",
    "\n",
    "# Find the movieId for \"Matrix, The (1999)\"\n",
    "movie_id = movies_df[movies_df['title'] == 'Matrix, The (1999)']['movieId'].values[0]\n",
    "\n",
    "# Filter tags for the identified movieId\n",
    "tags_for_movie = tags_df[tags_df['movieId'] == movie_id]\n",
    "\n",
    "# Get unique tags\n",
    "unique_tags = tags_for_movie['tag'].unique()\n",
    "\n",
    "print(f'Tags submitted by users for \"Matrix, The (1999)\" are:')\n",
    "for tag in unique_tags:\n",
    "    print(tag)\n"
   ]
  },
  {
   "cell_type": "code",
   "execution_count": 14,
   "id": "6f9a805b-0dc1-40f2-b1b5-a6a11a5e5c46",
   "metadata": {},
   "outputs": [
    {
     "name": "stdout",
     "output_type": "stream",
     "text": [
      "The average user rating for \"Terminator 2: Judgment Day (1991)\" is 3.97.\n"
     ]
    }
   ],
   "source": [
    "import pandas as pd\n",
    "\n",
    "# Load the datasets\n",
    "movies_df = pd.read_csv('movies.csv')\n",
    "ratings_df = pd.read_csv('ratings.csv')  # Adjust the filename if necessary\n",
    "\n",
    "# Strip any extra whitespace from column names\n",
    "movies_df.columns = movies_df.columns.str.strip()\n",
    "ratings_df.columns = ratings_df.columns.str.strip()\n",
    "\n",
    "# Find the movieId for \"Terminator 2: Judgment Day (1991)\"\n",
    "movie_id = movies_df[movies_df['title'] == 'Terminator 2: Judgment Day (1991)']['movieId'].values[0]\n",
    "\n",
    "# Filter ratings for the identified movieId\n",
    "ratings_for_movie = ratings_df[ratings_df['movieId'] == movie_id]\n",
    "\n",
    "# Calculate the average rating\n",
    "average_rating = ratings_for_movie['rating'].mean()\n",
    "\n",
    "print(f'The average user rating for \"Terminator 2: Judgment Day (1991)\" is {average_rating:.2f}.')\n"
   ]
  },
  {
   "cell_type": "code",
   "execution_count": 15,
   "id": "b51fa836-5905-44d9-9a96-992b9fb1ff35",
   "metadata": {},
   "outputs": [
    {
     "name": "stdout",
     "output_type": "stream",
     "text": [
      "Object `like` not found.\n"
     ]
    }
   ],
   "source": [
    "How does the data distribution of user ratings for \"Fight Club (1999)\" movie looks like?"
   ]
  },
  {
   "cell_type": "code",
   "execution_count": 16,
   "id": "1f3116f9-e1a7-49c8-980a-82fc2b3299ad",
   "metadata": {},
   "outputs": [
    {
     "data": {
      "image/png": "[encoded data removed]",
      "text/plain": [
       "<Figure size 1000x600 with 1 Axes>"
      ]
     },
     "metadata": {},
     "output_type": "display_data"
    }
   ],
   "source": [
    "\n",
    "movies_df = pd.read_csv('movies.csv')\n",
    "ratings_df = pd.read_csv('ratings.csv')  # Adjust the filename if necessary\n",
    "\n",
    "movies_df.columns = movies_df.columns.str.strip()\n",
    "ratings_df.columns = ratings_df.columns.str.strip()\n",
    "\n",
    "movie_id = movies_df[movies_df['title'] == 'Fight Club (1999)']['movieId'].values[0]\n",
    "\n",
    "ratings_for_movie = ratings_df[ratings_df['movieId'] == movie_id]\n",
    "\n",
    "plt.figure(figsize=(10, 6))\n",
    "plt.hist(ratings_for_movie['rating'], bins=10, edgecolor='black', alpha=0.7)\n",
    "plt.title('Distribution of User Ratings for \"Fight Club (1999)\"')\n",
    "plt.xlabel('Rating')\n",
    "plt.ylabel('Frequency')\n",
    "plt.grid(True)\n",
    "plt.xticks([0.5, 1.5, 2.5, 3.5, 4.5, 5.0])\n",
    "plt.show()\n"
   ]
  },
  {
   "cell_type": "code",
   "execution_count": 17,
   "id": "719c65b7-aa67-4c8f-a066-ad3a6e7e590f",
   "metadata": {},
   "outputs": [
    {
     "name": "stdout",
     "output_type": "stream",
     "text": [
      "The most popular movie based on average user ratings is \"Shawshank Redemption, The (1994)\" with an average rating of 4.43.\n"
     ]
    }
   ],
   "source": [
    "\n",
    "movies_df.columns = movies_df.columns.str.strip()\n",
    "ratings_df.columns = ratings_df.columns.str.strip()\n",
    "\n",
    "movies_to_check = [\n",
    "    'Godfather, The (1972)',\n",
    "    'Shawshank Redemption, The (1994)',\n",
    "    'Jumanji (1995)',\n",
    "    'Wolf of Wall Street, The (2013)'\n",
    "]\n",
    "movie_ids = movies_df[movies_df['title'].isin(movies_to_check)]['movieId'].tolist()\n",
    "\n",
    "ratings_for_movies = ratings_df[ratings_df['movieId'].isin(movie_ids)]\n",
    "\n",
    "average_ratings = ratings_for_movies.groupby('movieId')['rating'].mean()\n",
    "\n",
    "\n",
    "average_ratings_with_titles = movies_df[movies_df['movieId'].isin(average_ratings.index)]\n",
    "average_ratings_with_titles = average_ratings_with_titles.set_index('movieId').join(average_ratings)\n",
    "\n",
    "most_popular_movie = average_ratings_with_titles.loc[average_ratings.idxmax()]\n",
    "\n",
    "most_popular_movie_title = most_popular_movie['title']\n",
    "most_popular_movie_rating = most_popular_movie['rating']\n",
    "\n",
    "print(f'The most popular movie based on average user ratings is \"{most_popular_movie_title}\" with an average rating of {most_popular_movie_rating:.2f}.')\n"
   ]
  },
  {
   "cell_type": "code",
   "execution_count": 18,
   "id": "0602e60b-e446-48ca-8a37-dd7ad7e06172",
   "metadata": {},
   "outputs": [
    {
     "name": "stdout",
     "output_type": "stream",
     "text": [
      "Movies among the top 5 based on number of user ratings:\n",
      "Pulp Fiction (1994)\n",
      "Silence of the Lambs, The (1991)\n",
      "Matrix, The (1999)\n"
     ]
    }
   ],
   "source": [
    "movies_df.columns = movies_df.columns.str.strip()\n",
    "ratings_df.columns = ratings_df.columns.str.strip()\n",
    "\n",
    "ratings_count = ratings_df.groupby('movieId').size()\n",
    "\n",
    "ratings_count_with_titles = ratings_count.reset_index(name='rating_count')\n",
    "ratings_count_with_titles = ratings_count_with_titles.merge(movies_df[['movieId', 'title']], on='movieId')\n",
    "\n",
    "top_5_movies = ratings_count_with_titles.nlargest(5, 'rating_count')\n",
    "\n",
    "\n",
    "provided_movies = [\n",
    "    'Pulp Fiction (1994)',\n",
    "    'Bad Boys (1995)',\n",
    "    'Silence of the Lambs, The (1991)',\n",
    "    'Matrix, The (1999)'\n",
    "]\n",
    "\n",
    "top_5_movie_titles = top_5_movies['title'].tolist()\n",
    "correct_options = [movie for movie in provided_movies if movie in top_5_movie_titles]\n",
    "\n",
    "print(\"Movies among the top 5 based on number of user ratings:\")\n",
    "for movie in correct_options:\n",
    "    print(movie)\n"
   ]
  },
  {
   "cell_type": "code",
   "execution_count": 19,
   "id": "2e42e9e7-8123-4eab-a145-c6ac640775b1",
   "metadata": {},
   "outputs": [
    {
     "name": "stdout",
     "output_type": "stream",
     "text": [
      "The third most popular Sci-Fi movie based on the number of user ratings is \"Jurassic Park (1993)\".\n"
     ]
    }
   ],
   "source": [
    "\n",
    "movies_df.columns = movies_df.columns.str.strip()\n",
    "ratings_df.columns = ratings_df.columns.str.strip()\n",
    "\n",
    "sci_fi_movies = movies_df[movies_df['genres'].str.contains('Sci-Fi', case=False)]\n",
    "\n",
    "ratings_count = ratings_df[ratings_df['movieId'].isin(sci_fi_movies['movieId'])]\n",
    "ratings_count = ratings_count.groupby('movieId').size().reset_index(name='rating_count')\n",
    "\n",
    "sci_fi_ratings = sci_fi_movies.merge(ratings_count, on='movieId')\n",
    "\n",
    "top_sci_fi_movies = sci_fi_ratings.nlargest(3, 'rating_count')\n",
    "\n",
    "third_most_popular_sci_fi_movie = top_sci_fi_movies.iloc[2]\n",
    "\n",
    "print(f'The third most popular Sci-Fi movie based on the number of user ratings is \"{third_most_popular_sci_fi_movie[\"title\"]}\".')\n"
   ]
  },
  {
   "cell_type": "code",
   "execution_count": 20,
   "id": "128b4c8a-60a9-4ea1-93e5-5cdcb4e42c17",
   "metadata": {},
   "outputs": [],
   "source": [
    "df=pd.read_csv(\"links.csv\")"
   ]
  },
  {
   "cell_type": "code",
   "execution_count": 21,
   "id": "f891e79a-791c-4465-9055-5b9fe3a06087",
   "metadata": {},
   "outputs": [
    {
     "data": {
      "text/html": [
       "<div>\n",
       "<style scoped>\n",
       "    .dataframe tbody tr th:only-of-type {\n",
       "        vertical-align: middle;\n",
       "    }\n",
       "\n",
       "    .dataframe tbody tr th {\n",
       "        vertical-align: top;\n",
       "    }\n",
       "\n",
       "    .dataframe thead th {\n",
       "        text-align: right;\n",
       "    }\n",
       "</style>\n",
       "<table border=\"1\" class=\"dataframe\">\n",
       "  <thead>\n",
       "    <tr style=\"text-align: right;\">\n",
       "      <th></th>\n",
       "      <th>movieId</th>\n",
       "      <th>imdbId</th>\n",
       "      <th>tmdbId</th>\n",
       "    </tr>\n",
       "  </thead>\n",
       "  <tbody>\n",
       "    <tr>\n",
       "      <th>0</th>\n",
       "      <td>1</td>\n",
       "      <td>114709</td>\n",
       "      <td>862.0</td>\n",
       "    </tr>\n",
       "    <tr>\n",
       "      <th>1</th>\n",
       "      <td>2</td>\n",
       "      <td>113497</td>\n",
       "      <td>8844.0</td>\n",
       "    </tr>\n",
       "    <tr>\n",
       "      <th>2</th>\n",
       "      <td>3</td>\n",
       "      <td>113228</td>\n",
       "      <td>15602.0</td>\n",
       "    </tr>\n",
       "    <tr>\n",
       "      <th>3</th>\n",
       "      <td>4</td>\n",
       "      <td>114885</td>\n",
       "      <td>31357.0</td>\n",
       "    </tr>\n",
       "    <tr>\n",
       "      <th>4</th>\n",
       "      <td>5</td>\n",
       "      <td>113041</td>\n",
       "      <td>11862.0</td>\n",
       "    </tr>\n",
       "    <tr>\n",
       "      <th>...</th>\n",
       "      <td>...</td>\n",
       "      <td>...</td>\n",
       "      <td>...</td>\n",
       "    </tr>\n",
       "    <tr>\n",
       "      <th>9737</th>\n",
       "      <td>193581</td>\n",
       "      <td>5476944</td>\n",
       "      <td>432131.0</td>\n",
       "    </tr>\n",
       "    <tr>\n",
       "      <th>9738</th>\n",
       "      <td>193583</td>\n",
       "      <td>5914996</td>\n",
       "      <td>445030.0</td>\n",
       "    </tr>\n",
       "    <tr>\n",
       "      <th>9739</th>\n",
       "      <td>193585</td>\n",
       "      <td>6397426</td>\n",
       "      <td>479308.0</td>\n",
       "    </tr>\n",
       "    <tr>\n",
       "      <th>9740</th>\n",
       "      <td>193587</td>\n",
       "      <td>8391976</td>\n",
       "      <td>483455.0</td>\n",
       "    </tr>\n",
       "    <tr>\n",
       "      <th>9741</th>\n",
       "      <td>193609</td>\n",
       "      <td>101726</td>\n",
       "      <td>37891.0</td>\n",
       "    </tr>\n",
       "  </tbody>\n",
       "</table>\n",
       "<p>9742 rows × 3 columns</p>\n",
       "</div>"
      ],
      "text/plain": [
       "      movieId   imdbId    tmdbId\n",
       "0           1   114709     862.0\n",
       "1           2   113497    8844.0\n",
       "2           3   113228   15602.0\n",
       "3           4   114885   31357.0\n",
       "4           5   113041   11862.0\n",
       "...       ...      ...       ...\n",
       "9737   193581  5476944  432131.0\n",
       "9738   193583  5914996  445030.0\n",
       "9739   193585  6397426  479308.0\n",
       "9740   193587  8391976  483455.0\n",
       "9741   193609   101726   37891.0\n",
       "\n",
       "[9742 rows x 3 columns]"
      ]
     },
     "execution_count": 21,
     "metadata": {},
     "output_type": "execute_result"
    }
   ],
   "source": [
    "df"
   ]
  },
  {
   "cell_type": "code",
   "execution_count": 22,
   "id": "aa56fd5f-bd1f-46f0-9249-456c442176ce",
   "metadata": {},
   "outputs": [
    {
     "name": "stdout",
     "output_type": "stream",
     "text": [
      "   movieId  imdbId   tmdbId\n",
      "0        1  114709    862.0\n",
      "1        2  113497   8844.0\n",
      "2        3  113228  15602.0\n",
      "3        4  114885  31357.0\n",
      "4        5  113041  11862.0\n"
     ]
    }
   ],
   "source": [
    "import pandas as pd\n",
    "\n",
    "# Load the dataset containing IMDb and TMDb IDs\n",
    "links_df = pd.read_csv('links.csv')\n",
    "\n",
    "# Display the first few rows to check the structure\n",
    "print(links_df.head())"
   ]
  },
  {
   "cell_type": "code",
   "execution_count": 23,
   "id": "7094dce5-2d24-4e0b-9f3d-23d3122c6001",
   "metadata": {},
   "outputs": [
    {
     "ename": "NameError",
     "evalue": "name 'tt0113228' is not defined",
     "output_type": "error",
     "traceback": [
      "\u001b[1;31m---------------------------------------------------------------------------\u001b[0m",
      "\u001b[1;31mNameError\u001b[0m                                 Traceback (most recent call last)",
      "File \u001b[1;32m~\\Desktop\\Innomatics\\scrapper.py:30\u001b[0m\n\u001b[0;32m     27\u001b[0m     \u001b[38;5;28;01mreturn\u001b[39;00m imdb_rating\n\u001b[0;32m     29\u001b[0m \u001b[38;5;66;03m# Test the function with a known IMDb ID\u001b[39;00m\n\u001b[1;32m---> 30\u001b[0m \u001b[38;5;28mprint\u001b[39m(scrapper(tt0113228))\n",
      "\u001b[1;31mNameError\u001b[0m: name 'tt0113228' is not defined"
     ]
    }
   ],
   "source": [
    "%run scrapper.py"
   ]
  },
  {
   "cell_type": "code",
   "execution_count": 24,
   "id": "7d17d8a7-5f3e-420b-baf1-cecaa268c725",
   "metadata": {},
   "outputs": [
    {
     "name": "stdout",
     "output_type": "stream",
     "text": [
      "Rating not found\n"
     ]
    }
   ],
   "source": [
    "imdb_rating = scrapper(113228)  # Replace with actual IMDb ID\n",
    "print(imdb_rating)"
   ]
  },
  {
   "cell_type": "code",
   "execution_count": 25,
   "id": "0bb1ba2c-afe3-453b-bd35-916b9a5cf9f6",
   "metadata": {},
   "outputs": [],
   "source": [
    "imdb=3"
   ]
  },
  {
   "cell_type": "code",
   "execution_count": 26,
   "id": "d8a5e209-c444-44d3-84a7-b01a2fa3caaa",
   "metadata": {},
   "outputs": [
    {
     "ename": "SyntaxError",
     "evalue": "cannot assign to expression here. Maybe you meant '==' instead of '='? (1490000653.py, line 1)",
     "output_type": "error",
     "traceback": [
      "\u001b[1;36m  Cell \u001b[1;32mIn[26], line 1\u001b[1;36m\u001b[0m\n\u001b[1;33m    sci-fi=2\u001b[0m\n\u001b[1;37m    ^\u001b[0m\n\u001b[1;31mSyntaxError\u001b[0m\u001b[1;31m:\u001b[0m cannot assign to expression here. Maybe you meant '==' instead of '='?\n"
     ]
    }
   ],
   "source": [
    "sci-fi=2"
   ]
  }
 ],
 "metadata": {
  "kernelspec": {
   "display_name": "Python 3 (ipykernel)",
   "language": "python",
   "name": "python3"
  },
  "language_info": {
   "codemirror_mode": {
    "name": "ipython",
    "version": 3
   },
   "file_extension": ".py",
   "mimetype": "text/x-python",
   "name": "python",
   "nbconvert_exporter": "python",
   "pygments_lexer": "ipython3",
   "version": "3.12.4"
  }
 },
 "nbformat": 4,
 "nbformat_minor": 5
}
